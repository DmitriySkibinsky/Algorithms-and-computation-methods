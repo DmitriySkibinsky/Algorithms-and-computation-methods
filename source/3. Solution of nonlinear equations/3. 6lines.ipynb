{
 "cells": [
  {
   "cell_type": "code",
   "execution_count": null,
   "outputs": [],
   "source": [
    "# 2 СИСТЕМЫ\n",
    "import numpy as np\n",
    "\n",
    "# Define the functions\n",
    "def f1(x, y):\n",
    "    return x**3 + y**3 - 6*x*y\n",
    "\n",
    "def f2(x, y):\n",
    "    return x**2 - y**2 - 1 \n",
    "\n",
    "\n",
    "\n",
    "# Define the Jacobian matrix\n",
    "def jacobian(x):\n",
    "    return np.array([\n",
    "        [3*x[0]**2 - 6*x[1], 3*x[1]**2 - 6*x[0]],\n",
    "        [2*x[0],            -2*x[1]],\n",
    "  ])\n",
    "\n",
    "# Initial guess\n",
    "x = np.array([1.0, 1.0])\n",
    "\n",
    "# Newton-Raphson method\n",
    "def newton_raphson(x, f, jacobian, tol=1e-2, max_iter=100000):\n",
    "    for i in range(max_iter):\n",
    "        J = jacobian(x)\n",
    "        F = np.array([\n",
    "              f1(x[0], x[1]),\n",
    "              f2(x[0], x[1])\n",
    "        ])\n",
    "        delta = np.linalg.solve(J, -F)\n",
    "        x = x + delta\n",
    "        if np.linalg.norm(delta) < tol:\n",
    "            return x, i + 1\n",
    "    return x, max_iter\n",
    "\n",
    "# Solve the system\n",
    "solution, iterations = newton_raphson(x, [f1, f2], jacobian)\n",
    "\n",
    "print('Solution:', solution)\n",
    "print('Iterations:', iterations)"
   ],
   "metadata": {
    "collapsed": false,
    "pycharm": {
     "name": "#%%\n"
    }
   }
  },
  {
   "cell_type": "code",
   "execution_count": null,
   "outputs": [],
   "source": [
    "# 5 СИСТЕМЫ\n",
    "import numpy as np\n",
    "\n",
    "# Define the functions\n",
    "def f1(x, y, z, v, u):\n",
    "    return x**3 + y**3 - 6*x*y + z**8 + v + u\n",
    "\n",
    "def f2(x, y, z, v, u):\n",
    "    return x**2 - y**2 - 1 + 5*z + 2*v - u\n",
    "\n",
    "def f3(x, y, z, v, u):\n",
    "    return x**2 - 2*y**2 - 3*z + 3*v + u\n",
    "\n",
    "def f4(x, y, z, v, u):\n",
    "    return x**3 - 2*y**2 - 15*z + 2*v**2 + u/5\n",
    "\n",
    "def f5(x, y, z, v, u):\n",
    "    return x**2 - y**2 - 5*z + 3*v**2 + u**3\n",
    "\n",
    "\n",
    "# Define the Jacobian matrix\n",
    "def jacobian(x):\n",
    "    return np.array([\n",
    "        [3*x[0]**2 - 6*x[1], 3*x[1]**2 - 6*x[0], 8*x[2]**7, 1     , 1],\n",
    "        [2*x[0],            -2*x[1],             5        , 2     , -1],\n",
    "        [2*x[0],            -4*x[1],             -3        , 3     , 1],\n",
    "        [3*x[0],            -2*x[1],            -15        , 4*x[3], 1/5],\n",
    "        [2*x[0],            -2*x[1],             -5        , 6*x[3], 3*x[4]**2]\n",
    "  ])\n",
    "\n",
    "# Initial guess\n",
    "x = np.array([1.0, 1.0, 1.0, 1.0, 1.0])\n",
    "\n",
    "# Newton-Raphson method\n",
    "def newton_raphson(x, f, jacobian, tol=1e-2, max_iter=100000):\n",
    "    for i in range(max_iter):\n",
    "        J = jacobian(x)\n",
    "        F = np.array([\n",
    "              f1(x[0], x[1], x[2], x[3], x[4]),\n",
    "              f2(x[0], x[1], x[2], x[3], x[4]),\n",
    "              f3(x[0], x[1], x[2], x[3], x[4]),\n",
    "              f4(x[0], x[1], x[2], x[3], x[4]),\n",
    "              f5(x[0], x[1], x[2], x[3], x[4])\n",
    "        ])\n",
    "        delta = np.linalg.solve(J, -F)\n",
    "        x = x + delta\n",
    "        if np.linalg.norm(delta) < tol:\n",
    "            return x, i + 1\n",
    "    return x, max_iter\n",
    "\n",
    "# Solve the system\n",
    "solution, iterations = newton_raphson(x, [f1, f2, f3, f4], jacobian)\n",
    "\n",
    "print('Solution:', solution)\n",
    "print('Iterations:', iterations)\n"
   ],
   "metadata": {
    "collapsed": false,
    "pycharm": {
     "name": "#%%\n"
    }
   }
  },
  {
   "cell_type": "code",
   "execution_count": null,
   "outputs": [],
   "source": [
    "# 6 СИСТЕМЫ\n",
    "import numpy as np\n",
    "\n",
    "# Define the functions\n",
    "def f1(x, y, z, v, u, w):\n",
    "    return x**3 + y**3 - 6*x*y + z**8 + v + u\n",
    "\n",
    "def f2(x, y, z, v, u, w):\n",
    "    return x**2 - y**2 - 1 + 5*z + 2*v - u\n",
    "\n",
    "def f3(x, y, z, v, u, w):\n",
    "    return x**2 - 2*y**2 - 3*z + 3*v + u\n",
    "\n",
    "def f4(x, y, z, v, u, w):\n",
    "    return x**3 - 2*y**2 - 15*z + 2*v**2 + u/5\n",
    "\n",
    "def f5(x, y, z, v, u, w):\n",
    "    return x**2 - y**2 - 5*z + 3*v**2 + u**3\n",
    "\n",
    "def f6(x, y, z, v, u, w):\n",
    "    return x**4 - y**3 - 7*z + 4*v**2 + u + w**2\n",
    "\n",
    "\n",
    "# Define the Jacobian matrix\n",
    "def jacobian(x):\n",
    "    return np.array([\n",
    "        [3*x[0]**2 - 6*x[1], 3*x[1]**2 - 6*x[0], 8*x[2]**7 , 1,       1,         0],\n",
    "        [2*x[0],            -2*x[1],             5         , 2,      -1,         0],\n",
    "        [2*x[0],            -4*x[1],             -3        , 3,       1,         0],\n",
    "        [3*x[0],            -2*x[1],            -15        , 4*x[3],  1/5,       0],\n",
    "        [2*x[0],            -2*x[1],             -5        , 6*x[3],  3*x[4]**2, 0],\n",
    "        [4*x[0],            -3*x[1],             -7        , 8*x[3],  1,         2*x[5]]\n",
    "  ])\n",
    "\n",
    "# Initial guess\n",
    "x = np.array([1.0, 1.0, 1.0, 1.0, 1.0, 1.0])\n",
    "\n",
    "# Newton-Raphson method\n",
    "def newton_raphson(x, f, jacobian, tol=1e-2, max_iter=100000):\n",
    "    for i in range(max_iter):\n",
    "        J = jacobian(x)\n",
    "        F = np.array([\n",
    "              f1(x[0], x[1], x[2], x[3], x[4], x[5]),\n",
    "              f2(x[0], x[1], x[2], x[3], x[4], x[5]),\n",
    "              f3(x[0], x[1], x[2], x[3], x[4], x[5]),\n",
    "              f4(x[0], x[1], x[2], x[3], x[4], x[5]),\n",
    "              f5(x[0], x[1], x[2], x[3], x[4], x[5]),\n",
    "              f6(x[0], x[1], x[2], x[3], x[4], x[5])\n",
    "        ])\n",
    "        delta = np.linalg.solve(J, -F)\n",
    "        x = x + delta\n",
    "        if np.linalg.norm(delta) < tol:\n",
    "            return x, i + 1\n",
    "    return x, max_iter\n",
    "\n",
    "# Solve the system\n",
    "solution, iterations = newton_raphson(x, [f1, f2, f3, f4, f5, f6], jacobian)\n",
    "\n",
    "print('Solution:', solution)\n",
    "print('Iterations:', iterations)"
   ],
   "metadata": {
    "collapsed": false,
    "pycharm": {
     "name": "#%%\n"
    }
   }
  },
  {
   "cell_type": "code",
   "execution_count": null,
   "outputs": [],
   "source": [],
   "metadata": {
    "collapsed": false,
    "pycharm": {
     "name": "#%%\n"
    }
   }
  },
  {
   "cell_type": "code",
   "execution_count": null,
   "outputs": [],
   "source": [],
   "metadata": {
    "collapsed": false,
    "pycharm": {
     "name": "#%%\n"
    }
   }
  },
  {
   "cell_type": "code",
   "execution_count": null,
   "metadata": {
    "collapsed": false,
    "jupyter": {
     "outputs_hidden": false
    },
    "pycharm": {
     "name": "#%%\n"
    }
   },
   "outputs": [],
   "source": []
  },
  {
   "cell_type": "code",
   "execution_count": null,
   "metadata": {
    "collapsed": false,
    "jupyter": {
     "outputs_hidden": false
    },
    "pycharm": {
     "name": "#%%\n"
    }
   },
   "outputs": [],
   "source": []
  },
  {
   "cell_type": "code",
   "execution_count": null,
   "metadata": {
    "pycharm": {
     "name": "#%%\n"
    }
   },
   "outputs": [],
   "source": []
  }
 ],
 "metadata": {
  "kernelspec": {
   "display_name": "Python 3 (ipykernel)",
   "language": "python",
   "name": "python3"
  },
  "language_info": {
   "codemirror_mode": {
    "name": "ipython",
    "version": 3
   },
   "file_extension": ".py",
   "mimetype": "text/x-python",
   "name": "python",
   "nbconvert_exporter": "python",
   "pygments_lexer": "ipython3",
   "version": "3.11.4"
  }
 },
 "nbformat": 4,
 "nbformat_minor": 4
}